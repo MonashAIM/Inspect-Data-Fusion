{
 "cells": [
  {
   "cell_type": "code",
   "execution_count": 1,
   "id": "114383b4-736a-475c-9568-f426326a50fd",
   "metadata": {},
   "outputs": [],
   "source": [
    "import pandas as pd\n",
    "# https://www.geeksforgeeks.org/bag-of-word-and-frequency-count-in-text-using-sklearn/\n",
    "from sklearn.feature_extraction.text import TfidfVectorizer"
   ]
  },
  {
   "cell_type": "code",
   "execution_count": 2,
   "id": "8885d8f3-c35d-4be9-be77-6d65c39cddeb",
   "metadata": {},
   "outputs": [],
   "source": [
    "impression_raw = pd.read_csv(\"Final_Impressions.csv\")\n",
    "labels_raw = pd.read_csv(\"Final_Impressions_labels.csv\")"
   ]
  },
  {
   "cell_type": "code",
   "execution_count": 3,
   "id": "75ba2a10-b820-4cd9-a765-6bc71c464911",
   "metadata": {},
   "outputs": [],
   "source": [
    "labels_df_1 = labels_raw[['impression_id','pe_acute', 'pe_subsegmentalonly', 'pe_positive']]"
   ]
  },
  {
   "cell_type": "code",
   "execution_count": 4,
   "id": "593f6a8d-59e5-47ae-920a-40ce46c10626",
   "metadata": {},
   "outputs": [
    {
     "name": "stdout",
     "output_type": "stream",
     "text": [
      "<class 'pandas.core.frame.DataFrame'>\n",
      "RangeIndex: 23265 entries, 0 to 23264\n",
      "Data columns (total 5 columns):\n",
      " #   Column               Non-Null Count  Dtype \n",
      "---  ------               --------------  ----- \n",
      " 0   impression_id        23265 non-null  object\n",
      " 1   impressions          23265 non-null  object\n",
      " 2   pe_acute             23265 non-null  int64 \n",
      " 3   pe_subsegmentalonly  23265 non-null  int64 \n",
      " 4   pe_positive          23265 non-null  int64 \n",
      "dtypes: int64(3), object(2)\n",
      "memory usage: 908.9+ KB\n"
     ]
    }
   ],
   "source": [
    "# need to obtain all the data that has valid impressions need to remove unusable data\n",
    "merged_data = pd.merge(impression_raw, labels_df_1, on =\"impression_id\")\n",
    "merged_data.info()"
   ]
  },
  {
   "cell_type": "code",
   "execution_count": 5,
   "id": "89d78c59-08b9-4237-b2ee-62b11e2342cb",
   "metadata": {},
   "outputs": [],
   "source": [
    "vectorizer = TfidfVectorizer(lowercase = True, stop_words = \"english\", max_features = 1000)\n",
    "x = vectorizer.fit_transform(merged_data['impressions'])\n",
    "y = merged_data[['pe_acute', 'pe_subsegmentalonly', 'pe_positive']]"
   ]
  },
  {
   "cell_type": "code",
   "execution_count": 6,
   "id": "dee7f706-016b-4e1b-8bee-8b82b2ba7adf",
   "metadata": {},
   "outputs": [],
   "source": [
    "from sklearn.model_selection import train_test_split\n",
    "X_train, X_test, y_train, y_test = train_test_split(x, y, random_state = 0)"
   ]
  },
  {
   "cell_type": "code",
   "execution_count": 7,
   "id": "fef5d849-f41b-4fcf-b858-5d3a36439719",
   "metadata": {},
   "outputs": [
    {
     "data": {
      "text/plain": [
       "0.9133574007220217"
      ]
     },
     "execution_count": 7,
     "metadata": {},
     "output_type": "execute_result"
    }
   ],
   "source": [
    "from sklearn.linear_model import LogisticRegression\n",
    "from sklearn.multiclass import OneVsRestClassifier\n",
    "\n",
    "model = OneVsRestClassifier(LogisticRegression(max_iter=1000))\n",
    "model.fit(X_train, y_train)\n",
    "\n",
    "y_preds = model.predict(X_test)\n",
    "\n",
    "model.score(X_test, y_test)"
   ]
  },
  {
   "cell_type": "code",
   "execution_count": 11,
   "id": "078f766b-1b05-4603-bb1f-389641f1f8fc",
   "metadata": {},
   "outputs": [
    {
     "data": {
      "text/plain": [
       "0.8920405707409318"
      ]
     },
     "execution_count": 11,
     "metadata": {},
     "output_type": "execute_result"
    }
   ],
   "source": [
    "from sklearn.tree import DecisionTreeClassifier\n",
    "model_2 = OneVsRestClassifier(DecisionTreeClassifier(max_depth=6))\n",
    "model_2.fit(X_train, y_train)\n",
    "model_2.score(X_test, y_test)"
   ]
  },
  {
   "cell_type": "code",
   "execution_count": 8,
   "id": "3281b8cc-a032-49c6-af64-3211cb18989a",
   "metadata": {},
   "outputs": [
    {
     "name": "stdout",
     "output_type": "stream",
     "text": [
      "Classification Report:\n",
      "\n",
      "                     precision    recall  f1-score   support\n",
      "\n",
      "           pe_acute       0.91      0.81      0.85      1035\n",
      "pe_subsegmentalonly       0.74      0.31      0.44       247\n",
      "        pe_positive       0.92      0.83      0.87      1164\n",
      "\n",
      "          micro avg       0.91      0.77      0.83      2446\n",
      "          macro avg       0.86      0.65      0.72      2446\n",
      "       weighted avg       0.90      0.77      0.82      2446\n",
      "        samples avg       0.16      0.15      0.16      2446\n",
      "\n"
     ]
    },
    {
     "name": "stderr",
     "output_type": "stream",
     "text": [
      "/home/anikeet/.local/lib/python3.10/site-packages/sklearn/metrics/_classification.py:1517: UndefinedMetricWarning: Precision is ill-defined and being set to 0.0 in samples with no predicted labels. Use `zero_division` parameter to control this behavior.\n",
      "  _warn_prf(average, modifier, f\"{metric.capitalize()} is\", len(result))\n",
      "/home/anikeet/.local/lib/python3.10/site-packages/sklearn/metrics/_classification.py:1517: UndefinedMetricWarning: Recall is ill-defined and being set to 0.0 in samples with no true labels. Use `zero_division` parameter to control this behavior.\n",
      "  _warn_prf(average, modifier, f\"{metric.capitalize()} is\", len(result))\n",
      "/home/anikeet/.local/lib/python3.10/site-packages/sklearn/metrics/_classification.py:1517: UndefinedMetricWarning: F-score is ill-defined and being set to 0.0 in samples with no true nor predicted labels. Use `zero_division` parameter to control this behavior.\n",
      "  _warn_prf(average, modifier, f\"{metric.capitalize()} is\", len(result))\n"
     ]
    }
   ],
   "source": [
    "from sklearn.metrics  import classification_report\n",
    "print(\"Classification Report:\\n\")\n",
    "print(classification_report(y_test, y_preds, target_names=['pe_acute', 'pe_subsegmentalonly', 'pe_positive']))"
   ]
  },
  {
   "cell_type": "code",
   "execution_count": 12,
   "id": "ecc7f4e3-0309-4560-b84f-01e63de72ed3",
   "metadata": {},
   "outputs": [],
   "source": [
    "from sklearn.metrics import multilabel_confusion_matrix\n",
    "\n",
    "conf_matrix = multilabel_confusion_matrix(y_test, y_preds)"
   ]
  },
  {
   "cell_type": "code",
   "execution_count": 14,
   "id": "cdf8da84-4bd5-411c-b1c4-ac3e94748457",
   "metadata": {},
   "outputs": [
    {
     "data": {
      "text/plain": [
       "array([[[4700,   82],\n",
       "        [ 201,  834]],\n",
       "\n",
       "       [[5543,   27],\n",
       "        [ 170,   77]],\n",
       "\n",
       "       [[4567,   86],\n",
       "        [ 194,  970]]])"
      ]
     },
     "execution_count": 14,
     "metadata": {},
     "output_type": "execute_result"
    }
   ],
   "source": [
    "conf_matrix\n",
    "\n",
    "# result - Most of the data was classified correct with more things being classified as false negatives"
   ]
  },
  {
   "cell_type": "code",
   "execution_count": 13,
   "id": "3db0fd5b-723d-40fc-9d92-c4541267e251",
   "metadata": {},
   "outputs": [],
   "source": [
    "non_zero_data = merged_data[(merged_data[['pe_acute', 'pe_subsegmentalonly', 'pe_positive']].sum(axis=1)) > 0]"
   ]
  },
  {
   "cell_type": "code",
   "execution_count": 14,
   "id": "8703165b-734a-49b3-b17a-50f3c6e3c478",
   "metadata": {},
   "outputs": [
    {
     "data": {
      "text/plain": [
       "0.6551797489895766"
      ]
     },
     "execution_count": 14,
     "metadata": {},
     "output_type": "execute_result"
    }
   ],
   "source": [
    "# testing data with all of non-zero outputs\n",
    "X_non_zero = vectorizer.transform(non_zero_data[\"impressions\"])\n",
    "y_preds_non_zero = non_zero_data[['pe_acute', 'pe_subsegmentalonly', 'pe_positive']]\n",
    "\n",
    "model.score(X_non_zero, y_preds_non_zero)"
   ]
  },
  {
   "cell_type": "code",
   "execution_count": null,
   "id": "772d9931-7c62-4692-b2c9-808fad8f81fa",
   "metadata": {},
   "outputs": [],
   "source": []
  }
 ],
 "metadata": {
  "kernelspec": {
   "display_name": "Python 3 (ipykernel)",
   "language": "python",
   "name": "python3"
  },
  "language_info": {
   "codemirror_mode": {
    "name": "ipython",
    "version": 3
   },
   "file_extension": ".py",
   "mimetype": "text/x-python",
   "name": "python",
   "nbconvert_exporter": "python",
   "pygments_lexer": "ipython3",
   "version": "3.10.12"
  }
 },
 "nbformat": 4,
 "nbformat_minor": 5
}
